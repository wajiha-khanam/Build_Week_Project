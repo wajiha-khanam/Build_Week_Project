{
 "cells": [
  {
   "cell_type": "code",
   "execution_count": null,
   "id": "43e97b06-fef9-46b1-905d-d5acff3c9b95",
   "metadata": {
    "scrolled": true
   },
   "outputs": [],
   "source": [
    "# Import required libraries\n",
    "import requests\n",
    "from bs4 import BeautifulSoup\n",
    "import time\n",
    "import re\n",
    "import pandas as pd\n",
    "\n",
    "# Base URL of the website (Books to Scrape)\n",
    "url = \"https://books.toscrape.com/catalogue/page-\"\n",
    "\n",
    "# Variable to store the fetched HTML content\n",
    "content = \"\"\n",
    "\n",
    "for i in range(1, 51):\n",
    "    page_url = url + str(i) + \".html\" # Construct page URL\n",
    "    responses = requests.get(page_url) # Fetch page content\n",
    "    content += responses.text # Append page content to the variable\n",
    "    \n",
    "    # print(f\"Fetching: {page_url} - Status Code: {responses.status_code}\")\n",
    "\n",
    "    # Adding a delay to avoid getting blocked\n",
    "    time.sleep(1)\n",
    "\n",
    "soup = BeautifulSoup(content, \"html.parser\")\n",
    "soup"
   ]
  },
  {
   "cell_type": "code",
   "execution_count": null,
   "id": "a0294ffb-15e5-4498-a266-ba023ff09e2a",
   "metadata": {
    "scrolled": true
   },
   "outputs": [],
   "source": [
    "prices = soup.find_all('p',{'class':'price_color'})\n",
    "\n",
    "Prices = []\n",
    "for i in prices:\n",
    "    p = re.findall(r\"\\d+\\.\\d+\", i.text)\n",
    "    Prices.append(float(p[0]))\n",
    "Prices"
   ]
  },
  {
   "cell_type": "code",
   "execution_count": null,
   "id": "54bb0b4f-17db-40e8-8b51-f76406887cc3",
   "metadata": {
    "scrolled": true
   },
   "outputs": [],
   "source": [
    "availability = soup.find_all('p', class_='availability')\n",
    "\n",
    "Availability = []\n",
    "for i in availability:\n",
    "    Availability.append(i.text.strip())\n",
    "Availability "
   ]
  },
  {
   "cell_type": "code",
   "execution_count": null,
   "id": "dd8cc839-b835-496b-b084-26fed73600b8",
   "metadata": {
    "scrolled": true
   },
   "outputs": [],
   "source": [
    "titles = soup.find_all('h3')\n",
    "\n",
    "Title = []\n",
    "for i in titles:\n",
    "    Title.append(i.a['title'])\n",
    "Title"
   ]
  },
  {
   "cell_type": "code",
   "execution_count": null,
   "id": "a4b1a7e5-b5c0-4ee4-bb07-42147ccfe18a",
   "metadata": {
    "scrolled": true
   },
   "outputs": [],
   "source": [
    "ratings = soup.find_all('p', class_=\"star-rating\")\n",
    "rating_map = {\"One\": 1, \"Two\": 2, \"Three\": 3, \"Four\": 4, \"Five\": 5}\n",
    "Rating = []\n",
    "\n",
    "for rating in ratings:  \n",
    "    rating_text = rating[\"class\"][1]  \n",
    "    numeric_value = rating_map[rating_text]  \n",
    "    Rating.append(numeric_value)\n",
    "Rating"
   ]
  },
  {
   "cell_type": "code",
   "execution_count": null,
   "id": "892d888c-420f-4dc8-9268-adcb3847e8d4",
   "metadata": {},
   "outputs": [],
   "source": [
    "data = list(zip(Title, Prices, Availability, Rating))\n",
    "df = pd.DataFrame(data, columns=['Title', 'Price', 'Availability', 'Rating'])\n",
    "df.head()"
   ]
  },
  {
   "cell_type": "code",
   "execution_count": null,
   "id": "9928bf26-95f2-4682-8aa3-24f92dae6e21",
   "metadata": {},
   "outputs": [],
   "source": [
    "file_path = \"C:/Users/Admin/Downloads/Build_week_project.csv\"\n",
    "df.to_csv(\"C:/Users/Admin/Downloads/Build_week_project.csv\", index=False)"
   ]
  },
  {
   "cell_type": "code",
   "execution_count": null,
   "id": "0db3d99e-0879-4697-8d9e-75ed36af36f0",
   "metadata": {},
   "outputs": [],
   "source": [
    "# Function to remove special characters from the Title column\n",
    "def clean_title(title):\n",
    "    return re.sub(r\"[^a-zA-Z0-9\\s.,'-]\", \"\", title)\n",
    "\n",
    "# Apply the cleaning function\n",
    "df[\"Title\"] = df[\"Title\"].apply(clean_title)\n",
    "\n",
    "# Save the cleaned CSV\n",
    "cleaned_file_path = \"C:/Users/Admin/Downloads/Cleaned_Build_week_project1.csv\"\n",
    "df.to_csv(\"C:/Users/Admin/Downloads/Cleaned_Build_week_project1.csv\", index=False, encoding=\"utf-8\")\n",
    "\n"
   ]
  },
  {
   "cell_type": "code",
   "execution_count": null,
   "id": "38476e6b-71e6-4557-8c43-1ad2fed42db3",
   "metadata": {},
   "outputs": [],
   "source": []
  }
 ],
 "metadata": {
  "kernelspec": {
   "display_name": "Python 3 (ipykernel)",
   "language": "python",
   "name": "python3"
  },
  "language_info": {
   "codemirror_mode": {
    "name": "ipython",
    "version": 3
   },
   "file_extension": ".py",
   "mimetype": "text/x-python",
   "name": "python",
   "nbconvert_exporter": "python",
   "pygments_lexer": "ipython3",
   "version": "3.12.7"
  }
 },
 "nbformat": 4,
 "nbformat_minor": 5
}
